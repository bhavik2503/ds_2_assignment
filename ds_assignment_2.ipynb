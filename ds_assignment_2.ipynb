{
  "nbformat": 4,
  "nbformat_minor": 0,
  "metadata": {
    "colab": {
      "provenance": []
    },
    "kernelspec": {
      "name": "python3",
      "display_name": "Python 3"
    },
    "language_info": {
      "name": "python"
    }
  },
  "cells": [
    {
      "cell_type": "code",
      "execution_count": null,
      "metadata": {
        "id": "JrajSB1YtbjF"
      },
      "outputs": [],
      "source": []
    },
    {
      "cell_type": "code",
      "source": [],
      "metadata": {
        "id": "2kShE03Cxu52"
      },
      "execution_count": null,
      "outputs": []
    },
    {
      "cell_type": "markdown",
      "source": [],
      "metadata": {
        "id": "QqyjKIrDxyBB"
      }
    },
    {
      "cell_type": "markdown",
      "source": [
        "1. .What are data structures, and why are they important?\n",
        "    - Data structures are specialized formats for organizing, storing, and accessing collections of data.\n",
        "    - they are important because of data manipulation like adding, removing, modifying elements. Optimize searching and sorting operations and\n",
        "Conserve memory usage.\n",
        "\n",
        "2. Explain the difference between mutable and immutable data types with examples?\n",
        "    - mutable data type means you can change the value of given variable like list, set, and dictionary.\n",
        "    - but in immutable data type you can't change the value of the variables like string and tuples.\n",
        "\n",
        "3.  What are the main differences between lists and tuples in Python?\n",
        "    - the main difference between list and tuples is that list is a mutable data type where tuples is immutable data type.\n",
        "\n",
        "4.  Describe how dictionaries store data.\n",
        "    - a dictionary organizes data as a collection of key-value pairs. Each key is unique, and it's associated with a specific value.\n",
        "     # dictionary = {\"name\":\"bhavik\"}\n",
        "\n",
        "5.  Why might you use a set instead of a list in Python?\n",
        "    - set is a collection of unique elements so duplicate entries are not allowed in set where as in a list all element with duplicate entry also allow.\n",
        "\n",
        "6.  What is a string in Python, and how is it different from a list?\n",
        "    - A string is a sequence of characters enclosed within either single (') or double (\") quotes. Strings are immutable, meaning once you create a string, you cannot modify its contents directly.\n",
        "    - string elements are only character and its fixed like immutable once after creation where list is mutable and its element is anything like int,float,string etc.\n",
        "\n",
        "7.  How do tuples ensure data integrity in Python?    \n",
        "    - Tuples in Python help ensure data integrity primarily through their immutability.\n",
        "\n",
        "8.  What is a hash table, and how does it relate to dictionaries in Python?\n",
        "    - A hash table is a data structure that stores data as key-value pairs.dictionary in python use a hashing function to compute an index for storing and accessing these pairs efficiently like hash table.\n",
        "\n",
        "9.  Can lists contain different data types in Python?\n",
        "    - yes,list can contain different data types in Python.\n",
        "\n",
        "10. Explain why strings are immutable in Python.\n",
        "    - because of hashability,hash value of a string remains stable throughout its existence. to represent sensitive data, like file paths or usernames.\n",
        "     for its predictable behavior so its contents remain constant\n",
        "\n",
        "11. What advantages do dictionaries offer over lists for certain tasks?\n",
        "    - dictionary store data as key-value pairs, which gives values with meaningful keys, making the data more intuitive and accessible, while in list store data as a sequence of elements, which you access by their position (indexing).\n",
        "\n",
        "12.  Describe a scenario where using a tuple would be preferable over a list?\n",
        "    - #tuples\n",
        "      company_name =  (\"tata\", \"motors\")\n",
        "      company_name[0] = \"mahindra\"     #error showing that tuples are immutable\n",
        "      #lists\n",
        "      company_name =  [\"tata\", \"motors\"]\n",
        "      company_name[0] = \"mahindra\"  # no error showing\n",
        "  thats why tuples would be preferable over list.\n",
        "\n",
        "13.  How do sets handle duplicate values in Python?\n",
        "    - sets automatically remove duplicate values.\n",
        "\n",
        "14. How does the “in” keyword work differently for lists and dictionaries?\n",
        "    - The \"in\" keyword checks whether a specific value exists as an 'element' in the list. where in dictionary \"in\" keyword checks whether a specific 'key' exists in the dictionary not the 'values'.\n",
        "\n",
        "15. Can you modify the elements of a tuple? Explain why or why not\n",
        "    - No, you cannot modify the elements of a tuple in Python. because tuples are immutable, meaning that once they are created, their contents cannot be altered. also the hashability of the tuples.\n",
        "\n",
        "16.  What is a nested dictionary, and give an example of its use case?\n",
        "    - a nested dictionary is a dictionary within a dictionary.\n",
        "    # to get student info like\n",
        "\n",
        "    # Nested dictionary representing student information\n",
        "students = {\n",
        "    \"student1\": {\"name\": \"bhavik\",\"age\": 32,\"courses\": [\"ds\", \"gen ai\"]},\n",
        "    \"student2\": {\"name\": \"priya\",\"age\": 30,\"courses\": [\"designing\", \"art & craft\"]}\n",
        "           }\n",
        "\n",
        "17.  Describe the time complexity of accessing elements in a dictionary.\n",
        "    - accessing elements in a dictionary typically has a time complexity. this is because dictionaries are implemented as hash tables, where each key is hashed to a unique index in an array, allowing for direct access to the corresponding value.\n",
        "\n",
        "18.   In what situations are lists preferred over dictionaries?\n",
        "    - index base accessing of data lists is preferable, for ordered data, for iterating process, for duplicate values also lists is preferrable over dictionary.\n",
        "\n",
        "19.  Why are dictionaries considered unordered, and how does that affect data retrieval?\n",
        "    - dictionaries are considered unordered because they store data in key-value pairs,that's does not guarantee the order of insertion of data.\n",
        "     so for data retrival in dictionary keys are important not the index for elements because of its hashability.\n",
        "\n",
        "20.   Explain the difference between a list and a dictionary in terms of data retrieval.\n",
        "    - in list you retrieve elements from data by their index, while in dictionary  you retrieve elements by their keys."
      ],
      "metadata": {
        "id": "NQoMheiCt0A0"
      }
    },
    {
      "cell_type": "code",
      "source": [
        "# practical questions\n"
      ],
      "metadata": {
        "id": "jJu6C43uG1Cb"
      },
      "execution_count": null,
      "outputs": []
    },
    {
      "cell_type": "code",
      "source": [
        "#  Write a code to create a string with your name and print it.\n",
        "\n",
        "name = \"bhavik\"\n",
        "print(name)"
      ],
      "metadata": {
        "colab": {
          "base_uri": "https://localhost:8080/"
        },
        "id": "XuTeccg5G6oG",
        "outputId": "8ed692d8-b260-4540-c539-2fab6ad82401"
      },
      "execution_count": 1,
      "outputs": [
        {
          "output_type": "stream",
          "name": "stdout",
          "text": [
            "bhavik\n"
          ]
        }
      ]
    },
    {
      "cell_type": "code",
      "source": [
        "#  Write a code to find the length of the string \"Hello World\"\n",
        "\n",
        "s = \"Hello World\"\n",
        "print(len(s))"
      ],
      "metadata": {
        "colab": {
          "base_uri": "https://localhost:8080/"
        },
        "id": "N3wuvEORHP-O",
        "outputId": "380a18cb-ae42-4008-8d68-35fd2712c87c"
      },
      "execution_count": 2,
      "outputs": [
        {
          "output_type": "stream",
          "name": "stdout",
          "text": [
            "11\n"
          ]
        }
      ]
    },
    {
      "cell_type": "code",
      "source": [
        " # Write a code to slice the first 3 characters from the string \"Python Programming\"\n",
        "\n",
        " s1 = \"Python Programming\"\n",
        " print(s1[0:3])"
      ],
      "metadata": {
        "colab": {
          "base_uri": "https://localhost:8080/"
        },
        "id": "BT5dzMSQHmJE",
        "outputId": "4290fd0f-c1d3-4a12-b4d3-cfe6a67f74e0"
      },
      "execution_count": 3,
      "outputs": [
        {
          "output_type": "stream",
          "name": "stdout",
          "text": [
            "Pyt\n"
          ]
        }
      ]
    },
    {
      "cell_type": "code",
      "source": [
        "#  Write a code to convert the string \"hello\" to uppercase\n",
        "\n",
        "s2 = \"hello\"\n",
        "print(s2.upper())"
      ],
      "metadata": {
        "colab": {
          "base_uri": "https://localhost:8080/"
        },
        "id": "Q33Z_UEIIJAd",
        "outputId": "9aa25043-6237-4520-a058-6073be6c9f8c"
      },
      "execution_count": 4,
      "outputs": [
        {
          "output_type": "stream",
          "name": "stdout",
          "text": [
            "HELLO\n"
          ]
        }
      ]
    },
    {
      "cell_type": "code",
      "source": [
        " # Write a code to replace the word \"apple\" with \"orange\" in the string \"I like apple\"\n",
        "\n",
        " s3 = \"I like apple\"\n",
        " print(s3.replace(\"apple\",\"orange\"))"
      ],
      "metadata": {
        "colab": {
          "base_uri": "https://localhost:8080/"
        },
        "id": "Xklu9hnEIbcr",
        "outputId": "544b8699-09ad-42bb-83ed-891ea378ff30"
      },
      "execution_count": 5,
      "outputs": [
        {
          "output_type": "stream",
          "name": "stdout",
          "text": [
            "I like orange\n"
          ]
        }
      ]
    },
    {
      "cell_type": "code",
      "source": [
        "# Write a code to create a \"list\" with numbers 1 to 5 and print it\n",
        "\n",
        "num = list(range(1,6))\n",
        "print(num)"
      ],
      "metadata": {
        "colab": {
          "base_uri": "https://localhost:8080/"
        },
        "id": "YCTNn9iEJPcm",
        "outputId": "3d1b798c-9f81-440e-a15c-1fa0f62a6b14"
      },
      "execution_count": 15,
      "outputs": [
        {
          "output_type": "stream",
          "name": "stdout",
          "text": [
            "[1, 2, 3, 4, 5]\n"
          ]
        }
      ]
    },
    {
      "cell_type": "code",
      "source": [
        "#  Write a code to append the number 10 to the \"list\" [1, 2, 3, 4]\n",
        "\n",
        "list = [1, 2, 3, 4]\n",
        "list.append(10)\n",
        "print(list)"
      ],
      "metadata": {
        "colab": {
          "base_uri": "https://localhost:8080/"
        },
        "id": "uVj6eQP1KzdU",
        "outputId": "1d6eb2e9-33e3-4c08-dca8-d499cae69938"
      },
      "execution_count": 16,
      "outputs": [
        {
          "output_type": "stream",
          "name": "stdout",
          "text": [
            "[1, 2, 3, 4, 10]\n"
          ]
        }
      ]
    },
    {
      "cell_type": "code",
      "source": [
        "#  Write a code to remove the number 3 from the \"list\" [1, 2, 3, 4, 5]\n",
        "\n",
        "list1 = [1, 2, 3, 4, 5]\n",
        "list1.remove(3)\n",
        "print(list1)"
      ],
      "metadata": {
        "colab": {
          "base_uri": "https://localhost:8080/"
        },
        "id": "M2YtKPIHLgdd",
        "outputId": "d129abd3-5b58-41a8-f63a-1ae18097b51e"
      },
      "execution_count": 17,
      "outputs": [
        {
          "output_type": "stream",
          "name": "stdout",
          "text": [
            "[1, 2, 4, 5]\n"
          ]
        }
      ]
    },
    {
      "cell_type": "code",
      "source": [
        "#  Write a code to access the second element in the \"list\" ['a', 'b', 'c', 'd']\n",
        "\n",
        "list2 = ['a', 'b', 'c', 'd']\n",
        "print(list2[1])"
      ],
      "metadata": {
        "colab": {
          "base_uri": "https://localhost:8080/"
        },
        "id": "R6oX0gzCL4J2",
        "outputId": "d884e507-1678-49c9-d424-a03635917b97"
      },
      "execution_count": 19,
      "outputs": [
        {
          "output_type": "stream",
          "name": "stdout",
          "text": [
            "b\n"
          ]
        }
      ]
    },
    {
      "cell_type": "code",
      "source": [
        "#  Write a code to reverse the \"list\" [10, 20, 30, 40, 50]\n",
        "\n",
        "list3 = [10, 20, 30, 40, 50]\n",
        "list3.reverse()\n",
        "print(list3)"
      ],
      "metadata": {
        "colab": {
          "base_uri": "https://localhost:8080/"
        },
        "id": "krSJK2S8MPJO",
        "outputId": "3479c611-df43-426f-ccc6-786b9d5bd0ff"
      },
      "execution_count": 20,
      "outputs": [
        {
          "output_type": "stream",
          "name": "stdout",
          "text": [
            "[50, 40, 30, 20, 10]\n"
          ]
        }
      ]
    },
    {
      "cell_type": "code",
      "source": [
        "#  Write a code to create a \"tuple\" with the elements 100, 200, 300 and print it.\n",
        "\n",
        "tuple = (100, 200, 300)\n",
        "print(tuple)"
      ],
      "metadata": {
        "colab": {
          "base_uri": "https://localhost:8080/"
        },
        "id": "l6cCu_osMpNY",
        "outputId": "e9d6ae89-f44e-454f-ecc1-a5c9982e89a5"
      },
      "execution_count": 21,
      "outputs": [
        {
          "output_type": "stream",
          "name": "stdout",
          "text": [
            "(100, 200, 300)\n"
          ]
        }
      ]
    },
    {
      "cell_type": "code",
      "source": [
        "# Write a code to access the second-to-last element of the tuple ('red', 'green', 'blue', 'yellow')\n",
        "\n",
        "tuple1 = ('red', 'green', 'blue', 'yellow')\n",
        "print(tuple1[-2])"
      ],
      "metadata": {
        "colab": {
          "base_uri": "https://localhost:8080/"
        },
        "id": "-_EWgiriM8jt",
        "outputId": "f68af18a-810c-4dfa-a6ec-9d807b8fc649"
      },
      "execution_count": 22,
      "outputs": [
        {
          "output_type": "stream",
          "name": "stdout",
          "text": [
            "blue\n"
          ]
        }
      ]
    },
    {
      "cell_type": "code",
      "source": [
        "# Write a code to find the minimum number in the tuple (10, 20, 5, 15)\n",
        "\n",
        "tuple2 = (10, 20, 5, 15)\n",
        "print(min(tuple2))"
      ],
      "metadata": {
        "colab": {
          "base_uri": "https://localhost:8080/"
        },
        "id": "0FXe1VgXNWRr",
        "outputId": "e099f085-c756-4a1a-bc9d-0f633cd72b5c"
      },
      "execution_count": 23,
      "outputs": [
        {
          "output_type": "stream",
          "name": "stdout",
          "text": [
            "5\n"
          ]
        }
      ]
    },
    {
      "cell_type": "code",
      "source": [
        "# Write a code to find the index of the element \"cat\" in the tuple ('dog', 'cat', 'rabbit').\n",
        "\n",
        "tuple3 = ('dog', 'cat', 'rabbit')\n",
        "print(tuple3.index(\"cat\"))"
      ],
      "metadata": {
        "colab": {
          "base_uri": "https://localhost:8080/"
        },
        "id": "xaH20WvHNl91",
        "outputId": "903ceb7b-19bb-48e4-8ca9-8e45ab4fcce2"
      },
      "execution_count": 24,
      "outputs": [
        {
          "output_type": "stream",
          "name": "stdout",
          "text": [
            "1\n"
          ]
        }
      ]
    },
    {
      "cell_type": "code",
      "source": [
        "# Write a code to create a tuple containing three different fruits and check if \"kiwi\" is in it.\n",
        "\n",
        "fruits = (\"apple\", \"banana\", \"kiwi\")\n",
        "print(\"kiwi\" in fruits)"
      ],
      "metadata": {
        "colab": {
          "base_uri": "https://localhost:8080/"
        },
        "id": "Su17-CemN_et",
        "outputId": "8da1ddc6-a1bc-4592-830a-46ca982d1d5c"
      },
      "execution_count": 26,
      "outputs": [
        {
          "output_type": "stream",
          "name": "stdout",
          "text": [
            "True\n"
          ]
        }
      ]
    },
    {
      "cell_type": "code",
      "source": [
        "#  Write a code to create a set with the elements 'a', 'b', 'c' and print it\n",
        "\n",
        "set = {'a', 'b', 'c'}\n",
        "print(set)"
      ],
      "metadata": {
        "colab": {
          "base_uri": "https://localhost:8080/"
        },
        "id": "scjjHBTTOQbM",
        "outputId": "17940d71-2d0f-4f59-d33d-0dbd4e7ea0fb"
      },
      "execution_count": 27,
      "outputs": [
        {
          "output_type": "stream",
          "name": "stdout",
          "text": [
            "{'b', 'a', 'c'}\n"
          ]
        }
      ]
    },
    {
      "cell_type": "code",
      "source": [
        "# Write a code to clear all elements from the set {1, 2, 3, 4, 5}.\n",
        "\n",
        "set1 = {1, 2, 3, 4, 5}\n",
        "set1.clear()\n",
        "print(set1)"
      ],
      "metadata": {
        "colab": {
          "base_uri": "https://localhost:8080/"
        },
        "id": "lXbAgoGpOtVt",
        "outputId": "12c9b647-bc15-4640-c22c-4a6641aadbf1"
      },
      "execution_count": 29,
      "outputs": [
        {
          "output_type": "stream",
          "name": "stdout",
          "text": [
            "set()\n"
          ]
        }
      ]
    },
    {
      "cell_type": "code",
      "source": [
        "#  Write a code to remove the element 4 from the set {1, 2, 3, 4}\n",
        "\n",
        "set2 = {1, 2, 3, 4}\n",
        "set2.remove(4)\n",
        "print(set2)"
      ],
      "metadata": {
        "colab": {
          "base_uri": "https://localhost:8080/"
        },
        "id": "P24Dyd0WO9G3",
        "outputId": "f8422327-d5a0-42bd-f21d-cf51b482c12d"
      },
      "execution_count": 30,
      "outputs": [
        {
          "output_type": "stream",
          "name": "stdout",
          "text": [
            "{1, 2, 3}\n"
          ]
        }
      ]
    },
    {
      "cell_type": "code",
      "source": [
        "#  Write a code to find the union of two sets {1, 2, 3} and {3, 4, 5}\n",
        "\n",
        "s1 = {1,2,3}\n",
        "s2 = {3,4,5}\n",
        "s = s1 | s2\n",
        "print(s)"
      ],
      "metadata": {
        "colab": {
          "base_uri": "https://localhost:8080/"
        },
        "id": "EVsieYU_PMuG",
        "outputId": "07e5dc7b-633d-4670-af9a-1776072667c0"
      },
      "execution_count": 31,
      "outputs": [
        {
          "output_type": "stream",
          "name": "stdout",
          "text": [
            "{1, 2, 3, 4, 5}\n"
          ]
        }
      ]
    },
    {
      "cell_type": "code",
      "source": [
        "#  Write a code to find the intersection of two sets {1, 2, 3} and {2, 3, 4}.\n",
        "\n",
        "s3 = {1,2,3}\n",
        "s4 = {2,3,4}\n",
        "si = s3 & s4\n",
        "print(si)"
      ],
      "metadata": {
        "colab": {
          "base_uri": "https://localhost:8080/"
        },
        "id": "G4rW4aFQQk2K",
        "outputId": "0b86377e-5683-4094-b723-b194f22bf662"
      },
      "execution_count": 32,
      "outputs": [
        {
          "output_type": "stream",
          "name": "stdout",
          "text": [
            "{2, 3}\n"
          ]
        }
      ]
    },
    {
      "cell_type": "code",
      "source": [
        "#  Write a code to create a dictionary with the keys \"name\", \"age\", and \"city\", and print it\n",
        "\n",
        "my_dict = {\"name\": \"bhavik\", \"age\": 32, \"city\": \"ahmedabad\"}\n",
        "print(my_dict)"
      ],
      "metadata": {
        "colab": {
          "base_uri": "https://localhost:8080/"
        },
        "id": "bkvPuE_WQ50n",
        "outputId": "53384040-1ce2-4d03-c2a3-e53aedd04be6"
      },
      "execution_count": 33,
      "outputs": [
        {
          "output_type": "stream",
          "name": "stdout",
          "text": [
            "{'name': 'bhavik', 'age': 32, 'city': 'ahmedabad'}\n"
          ]
        }
      ]
    },
    {
      "cell_type": "code",
      "source": [
        "#  22. Write a code to add a new key-value pair \"country\": \"USA\" to the dictionary {'name': 'John', 'age': 25}.\n",
        "\n",
        "my_dict1 = {'name': 'John', 'age': 25}\n",
        "my_dict1[\"country\"] = \"USA\"\n",
        "print(my_dict1)"
      ],
      "metadata": {
        "colab": {
          "base_uri": "https://localhost:8080/"
        },
        "id": "bnx5ksHxRRve",
        "outputId": "ce3c7b5a-2341-4c69-eac4-7776e028c453"
      },
      "execution_count": 34,
      "outputs": [
        {
          "output_type": "stream",
          "name": "stdout",
          "text": [
            "{'name': 'John', 'age': 25, 'country': 'USA'}\n"
          ]
        }
      ]
    },
    {
      "cell_type": "code",
      "source": [
        "#  23. Write a code to access the value associated with the key \"name\" in the dictionary {'name': 'Alice', 'age': 30}.\n",
        "\n",
        "my_dict2 = {'name': 'Alice', 'age': 30}\n",
        "print(my_dict2[\"name\"])\n"
      ],
      "metadata": {
        "colab": {
          "base_uri": "https://localhost:8080/"
        },
        "id": "5sEkkuSmRy95",
        "outputId": "83f096db-2558-4197-f3f9-51b94d0d6022"
      },
      "execution_count": 35,
      "outputs": [
        {
          "output_type": "stream",
          "name": "stdout",
          "text": [
            "Alice\n"
          ]
        }
      ]
    },
    {
      "cell_type": "code",
      "source": [
        "#  24. Write a code to remove the key \"age\" from the dictionary {'name': 'Bob', 'age': 22, 'city': 'New York'}.\n",
        "\n",
        "my_dict3 = {'name': 'Bob', 'age': 22, 'city': 'New York'}\n",
        "my_dict3.pop(\"age\")\n",
        "print(my_dict3)"
      ],
      "metadata": {
        "colab": {
          "base_uri": "https://localhost:8080/"
        },
        "id": "wHcHJEFtSJIa",
        "outputId": "d57c7095-2add-432c-c8a6-d7834dccd47c"
      },
      "execution_count": 37,
      "outputs": [
        {
          "output_type": "stream",
          "name": "stdout",
          "text": [
            "{'name': 'Bob', 'city': 'New York'}\n"
          ]
        }
      ]
    },
    {
      "cell_type": "code",
      "source": [],
      "metadata": {
        "id": "Ldv5TnvKSmJK"
      },
      "execution_count": null,
      "outputs": []
    },
    {
      "cell_type": "code",
      "source": [
        "#  24. Write a code to remove the key \"age\" from the dictionary {'name': 'Bob', 'age': 22, 'city': 'New York'}.\n",
        "\n",
        "my_dict3 = {'name': 'Bob', 'age': 22, 'city': 'New York'}\n",
        "del my_dict3[\"age\"]\n",
        "print(my_dict3)"
      ],
      "metadata": {
        "colab": {
          "base_uri": "https://localhost:8080/"
        },
        "outputId": "26a57eda-fb4e-4c12-8c8c-b4ba989fedea",
        "id": "cQqlWT7_S1bv"
      },
      "execution_count": 41,
      "outputs": [
        {
          "output_type": "stream",
          "name": "stdout",
          "text": [
            "{'name': 'Bob', 'city': 'New York'}\n"
          ]
        }
      ]
    },
    {
      "cell_type": "code",
      "source": [
        "#  25. Write a code to check if the key \"city\" exists in the dictionary {'name': 'Alice', 'city': 'Paris'}\n",
        "\n",
        "my_dict4 = {'name': 'alice', 'city': 'paris'}\n",
        "print(\"city\" in my_dict4)"
      ],
      "metadata": {
        "colab": {
          "base_uri": "https://localhost:8080/"
        },
        "id": "39owUv2KS6Ez",
        "outputId": "5e5be854-718c-414f-c9a8-72ed9085a618"
      },
      "execution_count": 42,
      "outputs": [
        {
          "output_type": "stream",
          "name": "stdout",
          "text": [
            "True\n"
          ]
        }
      ]
    },
    {
      "cell_type": "code",
      "source": [
        "#  26. Write a code to create a list, a tuple, and a dictionary, and print them all.\n",
        "\n",
        "my_list = [1,2,3]\n",
        "my_tuples = (10,20,30)\n",
        "my_dict = {\"name\": \"bhavik\", \"age\": \"32\"}\n",
        "print(my_list)\n",
        "print(my_tuples)\n",
        "print(my_dict)"
      ],
      "metadata": {
        "colab": {
          "base_uri": "https://localhost:8080/"
        },
        "id": "H_wAnmCVThfw",
        "outputId": "396f998e-fcaa-4d31-dc8d-fcb9ea4c5ee7"
      },
      "execution_count": 43,
      "outputs": [
        {
          "output_type": "stream",
          "name": "stdout",
          "text": [
            "[1, 2, 3]\n",
            "(10, 20, 30)\n",
            "{'name': 'bhavik', 'age': '32'}\n"
          ]
        }
      ]
    },
    {
      "cell_type": "code",
      "source": [
        "#  Write a code to create a list of 5 random numbers between 1 and 100, sort it in ascending order, and print the  result.(replaced)\n",
        "\n",
        "list4 = [24, 75, 88, 42, 33]\n",
        "print(sorted(list4))"
      ],
      "metadata": {
        "colab": {
          "base_uri": "https://localhost:8080/"
        },
        "id": "p7croWvIUOVo",
        "outputId": "4769ada3-80fa-4e4c-f11a-3f203eff6fbb"
      },
      "execution_count": 44,
      "outputs": [
        {
          "output_type": "stream",
          "name": "stdout",
          "text": [
            "[24, 33, 42, 75, 88]\n"
          ]
        }
      ]
    },
    {
      "cell_type": "code",
      "source": [
        "# 28. Write a code to create a list with strings and print the element at the third index.\n",
        "\n",
        "list5 = [\"bhavik\", \"priya\", \"dipti\", \"dipal\"]\n",
        "print(list5[2])"
      ],
      "metadata": {
        "colab": {
          "base_uri": "https://localhost:8080/"
        },
        "id": "0R5nXWWZU2JI",
        "outputId": "9c7e61f5-6977-47ed-cfa5-369bd35a810e"
      },
      "execution_count": 45,
      "outputs": [
        {
          "output_type": "stream",
          "name": "stdout",
          "text": [
            "dipti\n"
          ]
        }
      ]
    },
    {
      "cell_type": "code",
      "source": [
        "# 29. Write a code to combine two dictionaries into one and print the result.\n",
        "\n",
        "my_dict5 = {\"fruits\": \"apple\", \"prices\": \"100\"}\n",
        "my_dict6 = {\"fruit\": \"kiwi\", \"price\": \"200\"}\n",
        "my_dict5.update(my_dict6)\n",
        "print(my_dict5)"
      ],
      "metadata": {
        "colab": {
          "base_uri": "https://localhost:8080/"
        },
        "id": "4Agz5DnjVYnJ",
        "outputId": "f663ebad-3ec9-41ef-b5f9-1874275579ae"
      },
      "execution_count": 50,
      "outputs": [
        {
          "output_type": "stream",
          "name": "stdout",
          "text": [
            "{'fruits': 'apple', 'prices': '100', 'fruit': 'kiwi', 'price': '200'}\n"
          ]
        }
      ]
    },
    {
      "cell_type": "code",
      "source": [],
      "metadata": {
        "id": "v_cLnXllWHP8"
      },
      "execution_count": null,
      "outputs": []
    },
    {
      "cell_type": "code",
      "source": [
        "# 29. Write a code to combine two dictionaries into one and print the result.\n",
        "\n",
        "my_dict5 = {\"fruits\": \"apple\", \"prices\": \"100\"}\n",
        "my_dict6 = {\"fruit\": \"kiwi\", \"price\": \"200\"}\n",
        "com_dict = {**my_dict5, **my_dict6}\n",
        "print(com_dict)"
      ],
      "metadata": {
        "colab": {
          "base_uri": "https://localhost:8080/"
        },
        "outputId": "dc3407b0-c261-4ef7-f1b7-9719bc85648c",
        "id": "8zUONyXxXwsP"
      },
      "execution_count": 54,
      "outputs": [
        {
          "output_type": "stream",
          "name": "stdout",
          "text": [
            "{'fruits': 'apple', 'prices': '100', 'fruit': 'kiwi', 'price': '200'}\n"
          ]
        }
      ]
    },
    {
      "cell_type": "code",
      "source": [
        "#  30. Write a code to convert a list of strings into a \"set\".\n",
        "del set\n",
        "list6 = [\"priya\", \"komal\", \"usha\", \"ishwar\"]\n",
        "set5 = set(list6)\n",
        "print(set5)"
      ],
      "metadata": {
        "colab": {
          "base_uri": "https://localhost:8080/"
        },
        "id": "3fauGXxoYAJh",
        "outputId": "038140fa-1c91-4779-aa34-27d58ce49dee"
      },
      "execution_count": 58,
      "outputs": [
        {
          "output_type": "stream",
          "name": "stdout",
          "text": [
            "{'usha', 'komal', 'priya', 'ishwar'}\n"
          ]
        }
      ]
    },
    {
      "cell_type": "code",
      "source": [],
      "metadata": {
        "id": "Yr5mKWZgYvxA"
      },
      "execution_count": null,
      "outputs": []
    }
  ]
}